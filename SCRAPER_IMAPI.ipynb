{
  "nbformat": 4,
  "nbformat_minor": 0,
  "metadata": {
    "colab": {
      "provenance": [],
      "authorship_tag": "ABX9TyOM3hS5JOnIn1MVuTLs8Zwd",
      "include_colab_link": true
    },
    "kernelspec": {
      "name": "python3",
      "display_name": "Python 3"
    },
    "language_info": {
      "name": "python"
    }
  },
  "cells": [
    {
      "cell_type": "markdown",
      "metadata": {
        "id": "view-in-github",
        "colab_type": "text"
      },
      "source": [
        "<a href=\"https://colab.research.google.com/github/Ewallk/Fixacao/blob/main/SCRAPER_IMAPI.ipynb\" target=\"_parent\"><img src=\"https://colab.research.google.com/assets/colab-badge.svg\" alt=\"Open In Colab\"/></a>"
      ]
    },
    {
      "cell_type": "markdown",
      "source": [
        "# Importação das bibliotecas necessárias"
      ],
      "metadata": {
        "id": "uIis6vOlPEi3"
      }
    },
    {
      "cell_type": "code",
      "execution_count": 1,
      "metadata": {
        "colab": {
          "base_uri": "https://localhost:8080/"
        },
        "id": "M8X3RmnENB21",
        "outputId": "03c3f976-3ce1-46ba-fc05-e286b099a043"
      },
      "outputs": [
        {
          "output_type": "stream",
          "name": "stderr",
          "text": [
            "/usr/local/lib/python3.8/dist-packages/requests/__init__.py:89: RequestsDependencyWarning: urllib3 (1.26.13) or chardet (3.0.4) doesn't match a supported version!\n",
            "  warnings.warn(\"urllib3 ({}) or chardet ({}) doesn't match a supported \"\n"
          ]
        }
      ],
      "source": [
        "import pandas as pd\n",
        "import numpy as np\n",
        "import matplotlib.pyplot as plt\n",
        "import seaborn as sns\n",
        "import re\n",
        "from datetime import datetime\n",
        "\n",
        "### Bibliotecas para scraping\n",
        "\n",
        "import requests\n",
        "from urllib.request import urlopen\n",
        "from bs4 import BeautifulSoup"
      ]
    },
    {
      "cell_type": "markdown",
      "source": [
        "Definindo headers. Já disponível na própria documentação da biblioteca."
      ],
      "metadata": {
        "id": "UVW4tMJmTuPf"
      }
    },
    {
      "cell_type": "code",
      "source": [
        "headers = {\"User-Agent\":\"Mozilla/5.0 (Windows NT 10.0; Win64; x64; rv:66.0) Gecko/20100101 Firefox/66.0\", \\\n",
        "           \"Accept-Encoding\":\"gzip, deflate\", \"Accept\":\"text/html,application/xhtml+xml,application/xml;q=0.9,*/*;q=0.8\", \\\n",
        "           \"DNT\":\"1\",\"Connection\":\"close\", \"Upgrade-Insecure-Requests\":\"1\"}"
      ],
      "metadata": {
        "id": "RzVzN6yoPwwb"
      },
      "execution_count": 2,
      "outputs": []
    },
    {
      "cell_type": "markdown",
      "source": [
        "Fazendo o request do site."
      ],
      "metadata": {
        "id": "aXdy2XKuUKKe"
      }
    },
    {
      "cell_type": "code",
      "source": [
        "r = requests.get('https://imapi.org/perfil/sao_luis-ma', headers=headers)"
      ],
      "metadata": {
        "id": "-YiNzG-fT5aN"
      },
      "execution_count": 3,
      "outputs": []
    },
    {
      "cell_type": "code",
      "source": [
        "content = r.content"
      ],
      "metadata": {
        "id": "e-TnGA7AUbE8"
      },
      "execution_count": 4,
      "outputs": []
    },
    {
      "cell_type": "markdown",
      "source": [
        "Fazendo o tratamento com o BeautifulSoup"
      ],
      "metadata": {
        "id": "GoxBzjEEUoVU"
      }
    },
    {
      "cell_type": "code",
      "source": [
        "soup = BeautifulSoup(content)"
      ],
      "metadata": {
        "id": "CU7cpaj0Uh2W"
      },
      "execution_count": 5,
      "outputs": []
    },
    {
      "cell_type": "markdown",
      "source": [
        "Vizualizando alguns dados da Cidade de São Luís-MA"
      ],
      "metadata": {
        "id": "CbXzWvFVYJct"
      }
    },
    {
      "cell_type": "code",
      "source": [
        "labels = []\n",
        "values = []\n",
        "dims = []"
      ],
      "metadata": {
        "id": "-M67XHUDUyUn"
      },
      "execution_count": 6,
      "outputs": []
    },
    {
      "cell_type": "code",
      "source": [
        "for d in soup.findAll('article', attrs={'class':'dimensao-sticky'}):\n",
        "  for d1 in d.findAll('div', attrs={'class': 'col-xs-3'}):\n",
        "    label = d1.find('p', attrs={'class': 'label'})\n",
        "    dado = d1.find('p', attrs={'class': 'dado'})\n",
        "    print('Label: ', label.text)\n",
        "    print('Dado: ', dado.text)\n",
        "    print('----')"
      ],
      "metadata": {
        "colab": {
          "base_uri": "https://localhost:8080/"
        },
        "id": "KX_EqR2IVCgn",
        "outputId": "799528c3-c7dc-43a3-e4af-458267b9c96f"
      },
      "execution_count": 7,
      "outputs": [
        {
          "output_type": "stream",
          "name": "stdout",
          "text": [
            "Label:  Região\n",
            "Dado:  Nordeste\n",
            "----\n",
            "Label:  Porte da cidade\n",
            "Dado:  Grande porte\n",
            "----\n",
            "Label:  Habitantes\n",
            "Dado:  1.082.935\n",
            "----\n",
            "Label:  Nascimentos ao ano/ 1000 habitantes\n",
            "Dado:  15.929\n",
            "----\n"
          ]
        }
      ]
    },
    {
      "cell_type": "code",
      "source": [
        "for d in soup.findAll('g'):\n",
        "  if d.has_attr('data-nota'):\n",
        "    print('Label: ', d['data-titulo'])\n",
        "    print('Valor: ', d['data-nota'])"
      ],
      "metadata": {
        "colab": {
          "base_uri": "https://localhost:8080/"
        },
        "id": "D6AiZdzQX3hY",
        "outputId": "3d629a8e-6ac3-48ef-ad5f-b4e0d5face40"
      },
      "execution_count": 8,
      "outputs": [
        {
          "output_type": "stream",
          "name": "stdout",
          "text": [
            "Label:  saúde\n",
            "Valor:  40\n",
            "Label:  nutrição\n",
            "Valor:  42\n",
            "Label:  cuidado responsivo\n",
            "Valor:  52\n",
            "Label:  aprendizagem inicial\n",
            "Valor:  68\n",
            "Label:  segurança e proteção\n",
            "Valor:  25\n"
          ]
        }
      ]
    },
    {
      "cell_type": "code",
      "source": [
        "for d in soup.findAll('section', attrs={'class':'row bottom-xs'}):\n",
        "  for d1 in d.findAll('div', attrs={'class': 'col-xs-4 tl'}):\n",
        "    dado = d1.find('p', attrs={'class': 'dado'})\n",
        "    print('Dado: ', dado.text)\n",
        "    label = d1.find('p', attrs={'class': 'label'})\n",
        "    print('Label: ', label.text)"
      ],
      "metadata": {
        "colab": {
          "base_uri": "https://localhost:8080/"
        },
        "id": "dy25tmDKZFUE",
        "outputId": "48473ca1-87de-4a6e-80ba-40364d2ab8da"
      },
      "execution_count": 9,
      "outputs": [
        {
          "output_type": "stream",
          "name": "stdout",
          "text": [
            "Dado:  2.951º lugar de 5.570\n",
            "Label:  Ranking Brasil\n"
          ]
        }
      ]
    },
    {
      "cell_type": "markdown",
      "source": [
        "Obtendo todos os indicadores contidos no site sobre a cidade e organizando-os em um Dataframe."
      ],
      "metadata": {
        "id": "LvRxvuyhbe2s"
      }
    },
    {
      "cell_type": "code",
      "source": [
        "for s in soup.findAll('section', attrs={'class': 'card'}):\n",
        "  for d in s.findAll('article', attrs={'class': 'indicador'}):\n",
        "    dado = d.find('p', attrs={'class': 'dado'})\n",
        "    label = d.find('p', attrs={'class': 'label'})\n",
        "    \n",
        "    print('Dado: ', dado.text)\n",
        "    print('Label: ', label.text)\n",
        "    \n",
        "    municipio = d.find('div', attrs={'class': 'local ativo'})\n",
        "    if municipio != None and municipio.has_attr('data-nota'):\n",
        "      print('Valor: ', municipio['data-nota'])\n",
        "      valor = municipio['data-nota']\n",
        "    else:\n",
        "      print('Valor: N/A')\n",
        "      valor = 'N/A'\n",
        "    print('----')\n",
        "    dims.append(s['data-dimensao'])\n",
        "    labels.append(label.text)\n",
        "    values.append(valor)"
      ],
      "metadata": {
        "colab": {
          "base_uri": "https://localhost:8080/"
        },
        "id": "FBy3CMtoanBC",
        "outputId": "d55b4d6a-8b0a-4221-b40c-3e4a9028b23b"
      },
      "execution_count": 10,
      "outputs": [
        {
          "output_type": "stream",
          "name": "stdout",
          "text": [
            "Dado:  Início adequado do pré-natal\n",
            "Label:  Percentual de gestantes que iniciaram o pré-natal com 12 semanas ou menos\n",
            "Valor:  78,16\n",
            "----\n",
            "Dado:  Consultas de pré-natal\n",
            "Label:  Percentual de gestantes com 6 ou mais consultas de pré‐natal \n",
            "Valor:  65,43\n",
            "----\n",
            "Dado:  Gravidez na adolescência\n",
            "Label:  Percentual  de gravidez na adolescência\n",
            "Valor:  16,46\n",
            "----\n",
            "Dado:  Cesáreas\n",
            "Label:  Percentual de cesáreas\n",
            "Valor:  54,10\n",
            "----\n",
            "Dado:  Prematuridade\n",
            "Label:  Percentual de crianças nascidas com menos de 37 semanas completas de gestação\n",
            "Valor:  13,10\n",
            "----\n",
            "Dado:  Baixo peso ao nascer\n",
            "Label:  Percentual de nascidos vivos com menos de 2500g\n",
            "Valor:  9,01\n",
            "----\n",
            "Dado:  Sífilis Congênita\n",
            "Label:  Casos confirmados e notificados de sífilis congênita para cada 10.000 crianças  menores de 5 anos\n",
            "Valor:  19,52\n",
            "----\n",
            "Dado:  Visitas domiciliares nos primeiros 10 dias de vida\n",
            "Label:  Percentual de equipes da atenção básica que participaram do PMAQ 2º ciclo e fizeram visitas domiciliares nos primeiros 10 dias de vida \n",
            "Valor:  62,86\n",
            "----\n",
            "Dado:  Cobertura de imunização\n",
            "Label:  Percentual de crianças que receberam o primeiro reforço da DTP\n",
            "Valor:  54,15\n",
            "----\n",
            "Dado:  Cobertura da Atenção Básica de Saúde\n",
            "Label:  Percentual da população coberta pela Atenção Básica\n",
            "Valor:  44,92\n",
            "----\n",
            "Dado:  Internação por pneumonia ou gastroenterites\n",
            "Label:  Percentual  de internações de crianças menores de 5 anos por pneumonia ou gastroenterites\n",
            "Valor:  0,18\n",
            "----\n",
            "Dado:  Mortalidade materna\n",
            "Label:  Mortes de mulheres por causas relacionadas à gravidez, parto ou puerpério para cada 100.000 nascidos vivos \n",
            "Valor:  87,88\n",
            "----\n",
            "Dado:  Mortalidade na Infância\n",
            "Label:  Óbitos de crianças menores de 5 anos para 1000 nascidos vivos\n",
            "Valor:  18,58\n",
            "----\n",
            "Dado:  Óbitos evitáveis em menores de 1 ano\n",
            "Label:  Óbitos evitáveis em crianças menores de um ano para cada 1000 nascidos vivos\n",
            "Valor:  15,82\n",
            "----\n",
            "Dado:  Cobertura de informação sobre estado nutricional\n",
            "Label:  Percentual de crianças menores de 5 anos com pelo menos um registro de informação sobre estado nutricional  no SISVAN \n",
            "Valor:  18,98\n",
            "----\n",
            "Dado:  Cobertura de informação sobre consumo alimentar\n",
            "Label:  Percentual de crianças menores de 5 anos com pelo menos um registro de informação sobre consumo alimentar  no SISVAN\n",
            "Valor:  0,27\n",
            "----\n",
            "Dado:  Insegurança Alimentar Domiciliar Grave\n",
            "Label:  Percentual de insegurança alimentar grave\n",
            "Valor:  4,90\n",
            "----\n",
            "Dado:  Estratégia Amamenta e Alimenta Brasil\n",
            "Label:  Indicador composto por realização de oficina de trabalho e/ou formação de tutores e/ou certificação da unidade básica de saúde\n",
            "Valor:  0,67\n",
            "----\n",
            "Dado:  Visitas do Programa Criança Feliz\n",
            "Label:  Percentual de índivíduos visitados em relação a meta pactuada\n",
            "Valor:  52,02\n",
            "----\n",
            "Dado:  Cobertura de creche e pré-escola\n",
            "Label:  Percentual de matrículas em creche e pré-escola \n",
            "Valor:  55,61\n",
            "----\n",
            "Dado:  Número de alunos por profissional em creches\n",
            "Label:  Número de alunos por profissional em creches\n",
            "Valor:  9,00\n",
            "----\n",
            "Dado:  Número de alunos por profissional em pré-escolas\n",
            "Label:  Número de alunos por profissional em pré-escolas\n",
            "Valor:  11,00\n",
            "----\n",
            "Dado:  Docentes qualificados em creches\n",
            "Label:  Percentual de docentes com curso superior em creches\n",
            "Valor:  46,30\n",
            "----\n",
            "Dado:  Docentes qualificados em pré-escolas\n",
            "Label:  Percentual de docentes com curso superior em  pré-escolas\n",
            "Valor:  51,20\n",
            "----\n",
            "Dado:  Recursos educacionais em creches\n",
            "Label:  Média de recursos educacionais  em creches\n",
            "Valor:  1,73\n",
            "----\n",
            "Dado:  Recursos educacionais em pré-escolas\n",
            "Label:  Média de recursos educacionais  em pré-escolas\n",
            "Valor:  1,76\n",
            "----\n",
            "Dado:  Notificação de violência contra criança\n",
            "Label:  Casos notificados de  violência para cada 1000  crianças menores de 5 anos \n",
            "Valor:  3,09\n",
            "----\n",
            "Dado:  Notificação de violência contra mulher\n",
            "Label:  Casos notificados de violência  para cada 1000  mulheres em idade fértil\n",
            "Valor:  0,84\n",
            "----\n",
            "Dado:  Cobertura do Programa Bolsa Família\n",
            "Label:  Percentual de famílias beneficiárias do Programa Bolsa Família entre as famílias inscritas no Cadastro Único e que têm crianças menores de 5 anos.\n",
            "Valor:  82,46\n",
            "----\n",
            "Dado:  Poluição do ar\n",
            "Label:  Estimativa da concentração diária de PM2,5 (ug/m3)\n",
            "Valor:  2,96\n",
            "----\n",
            "Dado:  Homicídios\n",
            "Label:  Taxa de homicídio estimada por  100 mil habitantes \n",
            "Valor:  46,90\n",
            "----\n"
          ]
        }
      ]
    },
    {
      "cell_type": "code",
      "source": [
        "res = {'dimensao': dims, 'label': labels, 'valor': values}"
      ],
      "metadata": {
        "id": "ZjLbFYvUc_KQ"
      },
      "execution_count": 11,
      "outputs": []
    },
    {
      "cell_type": "code",
      "source": [
        "resultado_slz = pd.DataFrame().from_dict(res)\n",
        "resultado_slz.head()"
      ],
      "metadata": {
        "colab": {
          "base_uri": "https://localhost:8080/",
          "height": 206
        },
        "id": "xNwxQmsdgOjc",
        "outputId": "0c209d5c-6088-41d6-d999-4b7f1d39eff8"
      },
      "execution_count": 12,
      "outputs": [
        {
          "output_type": "execute_result",
          "data": {
            "text/plain": [
              "  dimensao                                              label  valor\n",
              "0    saude  Percentual de gestantes que iniciaram o pré-na...  78,16\n",
              "1    saude  Percentual de gestantes com 6 ou mais consulta...  65,43\n",
              "2    saude            Percentual  de gravidez na adolescência  16,46\n",
              "3    saude                             Percentual de cesáreas  54,10\n",
              "4    saude  Percentual de crianças nascidas com menos de 3...  13,10"
            ],
            "text/html": [
              "\n",
              "  <div id=\"df-b74efc76-319f-4e33-8886-fd522bf3dc10\">\n",
              "    <div class=\"colab-df-container\">\n",
              "      <div>\n",
              "<style scoped>\n",
              "    .dataframe tbody tr th:only-of-type {\n",
              "        vertical-align: middle;\n",
              "    }\n",
              "\n",
              "    .dataframe tbody tr th {\n",
              "        vertical-align: top;\n",
              "    }\n",
              "\n",
              "    .dataframe thead th {\n",
              "        text-align: right;\n",
              "    }\n",
              "</style>\n",
              "<table border=\"1\" class=\"dataframe\">\n",
              "  <thead>\n",
              "    <tr style=\"text-align: right;\">\n",
              "      <th></th>\n",
              "      <th>dimensao</th>\n",
              "      <th>label</th>\n",
              "      <th>valor</th>\n",
              "    </tr>\n",
              "  </thead>\n",
              "  <tbody>\n",
              "    <tr>\n",
              "      <th>0</th>\n",
              "      <td>saude</td>\n",
              "      <td>Percentual de gestantes que iniciaram o pré-na...</td>\n",
              "      <td>78,16</td>\n",
              "    </tr>\n",
              "    <tr>\n",
              "      <th>1</th>\n",
              "      <td>saude</td>\n",
              "      <td>Percentual de gestantes com 6 ou mais consulta...</td>\n",
              "      <td>65,43</td>\n",
              "    </tr>\n",
              "    <tr>\n",
              "      <th>2</th>\n",
              "      <td>saude</td>\n",
              "      <td>Percentual  de gravidez na adolescência</td>\n",
              "      <td>16,46</td>\n",
              "    </tr>\n",
              "    <tr>\n",
              "      <th>3</th>\n",
              "      <td>saude</td>\n",
              "      <td>Percentual de cesáreas</td>\n",
              "      <td>54,10</td>\n",
              "    </tr>\n",
              "    <tr>\n",
              "      <th>4</th>\n",
              "      <td>saude</td>\n",
              "      <td>Percentual de crianças nascidas com menos de 3...</td>\n",
              "      <td>13,10</td>\n",
              "    </tr>\n",
              "  </tbody>\n",
              "</table>\n",
              "</div>\n",
              "      <button class=\"colab-df-convert\" onclick=\"convertToInteractive('df-b74efc76-319f-4e33-8886-fd522bf3dc10')\"\n",
              "              title=\"Convert this dataframe to an interactive table.\"\n",
              "              style=\"display:none;\">\n",
              "        \n",
              "  <svg xmlns=\"http://www.w3.org/2000/svg\" height=\"24px\"viewBox=\"0 0 24 24\"\n",
              "       width=\"24px\">\n",
              "    <path d=\"M0 0h24v24H0V0z\" fill=\"none\"/>\n",
              "    <path d=\"M18.56 5.44l.94 2.06.94-2.06 2.06-.94-2.06-.94-.94-2.06-.94 2.06-2.06.94zm-11 1L8.5 8.5l.94-2.06 2.06-.94-2.06-.94L8.5 2.5l-.94 2.06-2.06.94zm10 10l.94 2.06.94-2.06 2.06-.94-2.06-.94-.94-2.06-.94 2.06-2.06.94z\"/><path d=\"M17.41 7.96l-1.37-1.37c-.4-.4-.92-.59-1.43-.59-.52 0-1.04.2-1.43.59L10.3 9.45l-7.72 7.72c-.78.78-.78 2.05 0 2.83L4 21.41c.39.39.9.59 1.41.59.51 0 1.02-.2 1.41-.59l7.78-7.78 2.81-2.81c.8-.78.8-2.07 0-2.86zM5.41 20L4 18.59l7.72-7.72 1.47 1.35L5.41 20z\"/>\n",
              "  </svg>\n",
              "      </button>\n",
              "      \n",
              "  <style>\n",
              "    .colab-df-container {\n",
              "      display:flex;\n",
              "      flex-wrap:wrap;\n",
              "      gap: 12px;\n",
              "    }\n",
              "\n",
              "    .colab-df-convert {\n",
              "      background-color: #E8F0FE;\n",
              "      border: none;\n",
              "      border-radius: 50%;\n",
              "      cursor: pointer;\n",
              "      display: none;\n",
              "      fill: #1967D2;\n",
              "      height: 32px;\n",
              "      padding: 0 0 0 0;\n",
              "      width: 32px;\n",
              "    }\n",
              "\n",
              "    .colab-df-convert:hover {\n",
              "      background-color: #E2EBFA;\n",
              "      box-shadow: 0px 1px 2px rgba(60, 64, 67, 0.3), 0px 1px 3px 1px rgba(60, 64, 67, 0.15);\n",
              "      fill: #174EA6;\n",
              "    }\n",
              "\n",
              "    [theme=dark] .colab-df-convert {\n",
              "      background-color: #3B4455;\n",
              "      fill: #D2E3FC;\n",
              "    }\n",
              "\n",
              "    [theme=dark] .colab-df-convert:hover {\n",
              "      background-color: #434B5C;\n",
              "      box-shadow: 0px 1px 3px 1px rgba(0, 0, 0, 0.15);\n",
              "      filter: drop-shadow(0px 1px 2px rgba(0, 0, 0, 0.3));\n",
              "      fill: #FFFFFF;\n",
              "    }\n",
              "  </style>\n",
              "\n",
              "      <script>\n",
              "        const buttonEl =\n",
              "          document.querySelector('#df-b74efc76-319f-4e33-8886-fd522bf3dc10 button.colab-df-convert');\n",
              "        buttonEl.style.display =\n",
              "          google.colab.kernel.accessAllowed ? 'block' : 'none';\n",
              "\n",
              "        async function convertToInteractive(key) {\n",
              "          const element = document.querySelector('#df-b74efc76-319f-4e33-8886-fd522bf3dc10');\n",
              "          const dataTable =\n",
              "            await google.colab.kernel.invokeFunction('convertToInteractive',\n",
              "                                                     [key], {});\n",
              "          if (!dataTable) return;\n",
              "\n",
              "          const docLinkHtml = 'Like what you see? Visit the ' +\n",
              "            '<a target=\"_blank\" href=https://colab.research.google.com/notebooks/data_table.ipynb>data table notebook</a>'\n",
              "            + ' to learn more about interactive tables.';\n",
              "          element.innerHTML = '';\n",
              "          dataTable['output_type'] = 'display_data';\n",
              "          await google.colab.output.renderOutput(dataTable, element);\n",
              "          const docLink = document.createElement('div');\n",
              "          docLink.innerHTML = docLinkHtml;\n",
              "          element.appendChild(docLink);\n",
              "        }\n",
              "      </script>\n",
              "    </div>\n",
              "  </div>\n",
              "  "
            ]
          },
          "metadata": {},
          "execution_count": 12
        }
      ]
    },
    {
      "cell_type": "markdown",
      "source": [
        "# Buscando dados de 10 dos municípios brasileiros"
      ],
      "metadata": {
        "id": "fdz0kbe-jEm2"
      }
    },
    {
      "cell_type": "markdown",
      "source": [
        "Utilizando o Selenium - Páginas Dinâmicas, devido ao uso de javascript no seletor de municípios do site."
      ],
      "metadata": {
        "id": "dugQjHt9jNs1"
      }
    },
    {
      "cell_type": "code",
      "source": [
        "#!pip install selenium\n",
        "#!apt install chromium-chromedriver\n",
        "\n",
        "### Código comentado, pois foi necessária a reinicialização do kernel para utilização correta da biblioteca recém instalada"
      ],
      "metadata": {
        "id": "785WDz7RgWlg"
      },
      "execution_count": 13,
      "outputs": []
    },
    {
      "cell_type": "code",
      "source": [
        "from selenium import webdriver\n",
        "from bs4 import BeautifulSoup\n",
        "\n",
        "url = 'https://imapi.org/perfil/sao_luis-ma'"
      ],
      "metadata": {
        "id": "vikTa7V0j6kh"
      },
      "execution_count": 14,
      "outputs": []
    },
    {
      "cell_type": "markdown",
      "source": [
        "Configurações iniciais do Chrome para utilização do selenium."
      ],
      "metadata": {
        "id": "peA_BeKIlbb1"
      }
    },
    {
      "cell_type": "code",
      "source": [
        "#configurações presente na própria documentação da biblioteca\n",
        "\n",
        "chrome_options = webdriver.ChromeOptions()\n",
        "chrome_options.add_argument('--headless')\n",
        "chrome_options.add_argument('--no-sandbox')\n",
        "chrome_options.add_argument('--disable-dev-shm-usage')"
      ],
      "metadata": {
        "id": "MDpBM8YWlF7F"
      },
      "execution_count": 15,
      "outputs": []
    },
    {
      "cell_type": "code",
      "source": [
        "driver = webdriver.Chrome('chromedriver', options=chrome_options)"
      ],
      "metadata": {
        "id": "U6172Qz6mBhq"
      },
      "execution_count": 16,
      "outputs": []
    },
    {
      "cell_type": "markdown",
      "source": [
        "Rodando a URL"
      ],
      "metadata": {
        "id": "6MwP-A4voVY9"
      }
    },
    {
      "cell_type": "code",
      "source": [
        "driver.get(url)"
      ],
      "metadata": {
        "id": "gTNOweYtnd5d"
      },
      "execution_count": 17,
      "outputs": []
    },
    {
      "cell_type": "code",
      "source": [
        "html = driver.page_source"
      ],
      "metadata": {
        "id": "lACwyajLoCZW"
      },
      "execution_count": 18,
      "outputs": []
    },
    {
      "cell_type": "markdown",
      "source": [
        "Tratando os dados com o BeautifulSoup"
      ],
      "metadata": {
        "id": "JUItj2dQoaKe"
      }
    },
    {
      "cell_type": "code",
      "source": [
        "soup2 = BeautifulSoup(html, 'html.parser')"
      ],
      "metadata": {
        "id": "_EOk-qJzoJ79"
      },
      "execution_count": 19,
      "outputs": []
    },
    {
      "cell_type": "code",
      "source": [
        "municipios = [option.text for option in soup2.select('#municipios option')]"
      ],
      "metadata": {
        "id": "ucRXRkKCoRte"
      },
      "execution_count": 20,
      "outputs": []
    },
    {
      "cell_type": "markdown",
      "source": [
        "Adequando o código anteriormente criado, a todos os municipios."
      ],
      "metadata": {
        "id": "ACUDb7Ylprnl"
      }
    },
    {
      "cell_type": "code",
      "source": [
        "### importando a biblioteca sleep para evitar a sobrecarga de solicitações no site\n",
        "\n",
        "from time import sleep\n",
        "from random import randint"
      ],
      "metadata": {
        "id": "1XAMdgZeo5rT"
      },
      "execution_count": 21,
      "outputs": []
    },
    {
      "cell_type": "code",
      "source": [
        "labels = []\n",
        "values = []\n",
        "municipio = []\n",
        "estado = []\n",
        "dims = []"
      ],
      "metadata": {
        "id": "PpSjPlL9pB00"
      },
      "execution_count": 22,
      "outputs": []
    },
    {
      "cell_type": "code",
      "source": [
        "i = 1\n",
        "for m in municipios[:10]:\n",
        "  print(i, sep=' ', end=' ', flush=True)\n",
        "  i = i + 1\n",
        "  r = requests.get('https://www.imapi.org/perfil/'+m, headers=headers)\n",
        "  content = r.content\n",
        "  sleep(randint(1,2))\n",
        "  soup_all = BeautifulSoup(content)\n",
        "  for s in soup_all.findAll('section', attrs={'class': 'card'}):\n",
        "    for d in s.findAll('article', attrs={'class': 'indicador'}):\n",
        "      dado = d.find('p', attrs={'class': 'dado'})\n",
        "      label = d.find('p', attrs={'class': 'label'})\n",
        "            \n",
        "      munic = d.find('div', attrs={'class': 'local ativo'})\n",
        "      if munic != None and munic.has_attr('data-nota'):\n",
        "        \n",
        "        valor = munic['data-nota']\n",
        "      else:\n",
        "        valor = np.NaN\n",
        "      municipio.append(m.split('-')[0])\n",
        "      estado.append(m.split('-')[1])\n",
        "      dims.append(s['data-dimensao'])\n",
        "      labels.append(label.text)\n",
        "      values.append(valor)"
      ],
      "metadata": {
        "colab": {
          "base_uri": "https://localhost:8080/"
        },
        "id": "Uxg91z8cqOEk",
        "outputId": "e253684e-74c6-4c16-c105-971ef0555740"
      },
      "execution_count": 23,
      "outputs": [
        {
          "output_type": "stream",
          "name": "stdout",
          "text": [
            "1 2 3 4 5 6 7 8 9 10 "
          ]
        }
      ]
    },
    {
      "cell_type": "code",
      "source": [
        "res = {'estado':estado, 'municipio':municipio, 'dimensao':dims, 'label':labels, 'valor':values}"
      ],
      "metadata": {
        "id": "Ix9JgZSqtmGE"
      },
      "execution_count": 27,
      "outputs": []
    },
    {
      "cell_type": "code",
      "source": [
        "res_df = pd.DataFrame().from_dict(res)"
      ],
      "metadata": {
        "id": "w5v1eiqmmmnL"
      },
      "execution_count": 28,
      "outputs": []
    },
    {
      "cell_type": "code",
      "source": [
        "res_df"
      ],
      "metadata": {
        "colab": {
          "base_uri": "https://localhost:8080/",
          "height": 424
        },
        "id": "4yXdBu_Tm5Fb",
        "outputId": "dfe5d9d8-39a4-4941-d64b-3ea94cc1176b"
      },
      "execution_count": 30,
      "outputs": [
        {
          "output_type": "execute_result",
          "data": {
            "text/plain": [
              "    estado        municipio   dimensao  \\\n",
              "0       go  abadia_de_goias      saude   \n",
              "1       go  abadia_de_goias      saude   \n",
              "2       go  abadia_de_goias      saude   \n",
              "3       go  abadia_de_goias      saude   \n",
              "4       go  abadia_de_goias      saude   \n",
              "..     ...              ...        ...   \n",
              "305     sc    abdon_batista  seguranca   \n",
              "306     sc    abdon_batista  seguranca   \n",
              "307     sc    abdon_batista  seguranca   \n",
              "308     sc    abdon_batista  seguranca   \n",
              "309     sc    abdon_batista  seguranca   \n",
              "\n",
              "                                                 label  valor  \n",
              "0    Percentual de gestantes que iniciaram o pré-na...  87,30  \n",
              "1    Percentual de gestantes com 6 ou mais consulta...  81,50  \n",
              "2              Percentual  de gravidez na adolescência  21,50  \n",
              "3                               Percentual de cesáreas  69,00  \n",
              "4    Percentual de crianças nascidas com menos de 3...  14,00  \n",
              "..                                                 ...    ...  \n",
              "305  Casos notificados de  violência para cada 1000...   6,13  \n",
              "306  Casos notificados de violência  para cada 1000...   2,87  \n",
              "307  Percentual de famílias beneficiárias do Progra...  54,32  \n",
              "308  Estimativa da concentração diária de PM2,5 (ug...   4,84  \n",
              "309  Taxa de homicídio estimada por  100 mil habita...   0,00  \n",
              "\n",
              "[310 rows x 5 columns]"
            ],
            "text/html": [
              "\n",
              "  <div id=\"df-a58c56c5-2cc8-4aa3-94b4-8ceec09095c0\">\n",
              "    <div class=\"colab-df-container\">\n",
              "      <div>\n",
              "<style scoped>\n",
              "    .dataframe tbody tr th:only-of-type {\n",
              "        vertical-align: middle;\n",
              "    }\n",
              "\n",
              "    .dataframe tbody tr th {\n",
              "        vertical-align: top;\n",
              "    }\n",
              "\n",
              "    .dataframe thead th {\n",
              "        text-align: right;\n",
              "    }\n",
              "</style>\n",
              "<table border=\"1\" class=\"dataframe\">\n",
              "  <thead>\n",
              "    <tr style=\"text-align: right;\">\n",
              "      <th></th>\n",
              "      <th>estado</th>\n",
              "      <th>municipio</th>\n",
              "      <th>dimensao</th>\n",
              "      <th>label</th>\n",
              "      <th>valor</th>\n",
              "    </tr>\n",
              "  </thead>\n",
              "  <tbody>\n",
              "    <tr>\n",
              "      <th>0</th>\n",
              "      <td>go</td>\n",
              "      <td>abadia_de_goias</td>\n",
              "      <td>saude</td>\n",
              "      <td>Percentual de gestantes que iniciaram o pré-na...</td>\n",
              "      <td>87,30</td>\n",
              "    </tr>\n",
              "    <tr>\n",
              "      <th>1</th>\n",
              "      <td>go</td>\n",
              "      <td>abadia_de_goias</td>\n",
              "      <td>saude</td>\n",
              "      <td>Percentual de gestantes com 6 ou mais consulta...</td>\n",
              "      <td>81,50</td>\n",
              "    </tr>\n",
              "    <tr>\n",
              "      <th>2</th>\n",
              "      <td>go</td>\n",
              "      <td>abadia_de_goias</td>\n",
              "      <td>saude</td>\n",
              "      <td>Percentual  de gravidez na adolescência</td>\n",
              "      <td>21,50</td>\n",
              "    </tr>\n",
              "    <tr>\n",
              "      <th>3</th>\n",
              "      <td>go</td>\n",
              "      <td>abadia_de_goias</td>\n",
              "      <td>saude</td>\n",
              "      <td>Percentual de cesáreas</td>\n",
              "      <td>69,00</td>\n",
              "    </tr>\n",
              "    <tr>\n",
              "      <th>4</th>\n",
              "      <td>go</td>\n",
              "      <td>abadia_de_goias</td>\n",
              "      <td>saude</td>\n",
              "      <td>Percentual de crianças nascidas com menos de 3...</td>\n",
              "      <td>14,00</td>\n",
              "    </tr>\n",
              "    <tr>\n",
              "      <th>...</th>\n",
              "      <td>...</td>\n",
              "      <td>...</td>\n",
              "      <td>...</td>\n",
              "      <td>...</td>\n",
              "      <td>...</td>\n",
              "    </tr>\n",
              "    <tr>\n",
              "      <th>305</th>\n",
              "      <td>sc</td>\n",
              "      <td>abdon_batista</td>\n",
              "      <td>seguranca</td>\n",
              "      <td>Casos notificados de  violência para cada 1000...</td>\n",
              "      <td>6,13</td>\n",
              "    </tr>\n",
              "    <tr>\n",
              "      <th>306</th>\n",
              "      <td>sc</td>\n",
              "      <td>abdon_batista</td>\n",
              "      <td>seguranca</td>\n",
              "      <td>Casos notificados de violência  para cada 1000...</td>\n",
              "      <td>2,87</td>\n",
              "    </tr>\n",
              "    <tr>\n",
              "      <th>307</th>\n",
              "      <td>sc</td>\n",
              "      <td>abdon_batista</td>\n",
              "      <td>seguranca</td>\n",
              "      <td>Percentual de famílias beneficiárias do Progra...</td>\n",
              "      <td>54,32</td>\n",
              "    </tr>\n",
              "    <tr>\n",
              "      <th>308</th>\n",
              "      <td>sc</td>\n",
              "      <td>abdon_batista</td>\n",
              "      <td>seguranca</td>\n",
              "      <td>Estimativa da concentração diária de PM2,5 (ug...</td>\n",
              "      <td>4,84</td>\n",
              "    </tr>\n",
              "    <tr>\n",
              "      <th>309</th>\n",
              "      <td>sc</td>\n",
              "      <td>abdon_batista</td>\n",
              "      <td>seguranca</td>\n",
              "      <td>Taxa de homicídio estimada por  100 mil habita...</td>\n",
              "      <td>0,00</td>\n",
              "    </tr>\n",
              "  </tbody>\n",
              "</table>\n",
              "<p>310 rows × 5 columns</p>\n",
              "</div>\n",
              "      <button class=\"colab-df-convert\" onclick=\"convertToInteractive('df-a58c56c5-2cc8-4aa3-94b4-8ceec09095c0')\"\n",
              "              title=\"Convert this dataframe to an interactive table.\"\n",
              "              style=\"display:none;\">\n",
              "        \n",
              "  <svg xmlns=\"http://www.w3.org/2000/svg\" height=\"24px\"viewBox=\"0 0 24 24\"\n",
              "       width=\"24px\">\n",
              "    <path d=\"M0 0h24v24H0V0z\" fill=\"none\"/>\n",
              "    <path d=\"M18.56 5.44l.94 2.06.94-2.06 2.06-.94-2.06-.94-.94-2.06-.94 2.06-2.06.94zm-11 1L8.5 8.5l.94-2.06 2.06-.94-2.06-.94L8.5 2.5l-.94 2.06-2.06.94zm10 10l.94 2.06.94-2.06 2.06-.94-2.06-.94-.94-2.06-.94 2.06-2.06.94z\"/><path d=\"M17.41 7.96l-1.37-1.37c-.4-.4-.92-.59-1.43-.59-.52 0-1.04.2-1.43.59L10.3 9.45l-7.72 7.72c-.78.78-.78 2.05 0 2.83L4 21.41c.39.39.9.59 1.41.59.51 0 1.02-.2 1.41-.59l7.78-7.78 2.81-2.81c.8-.78.8-2.07 0-2.86zM5.41 20L4 18.59l7.72-7.72 1.47 1.35L5.41 20z\"/>\n",
              "  </svg>\n",
              "      </button>\n",
              "      \n",
              "  <style>\n",
              "    .colab-df-container {\n",
              "      display:flex;\n",
              "      flex-wrap:wrap;\n",
              "      gap: 12px;\n",
              "    }\n",
              "\n",
              "    .colab-df-convert {\n",
              "      background-color: #E8F0FE;\n",
              "      border: none;\n",
              "      border-radius: 50%;\n",
              "      cursor: pointer;\n",
              "      display: none;\n",
              "      fill: #1967D2;\n",
              "      height: 32px;\n",
              "      padding: 0 0 0 0;\n",
              "      width: 32px;\n",
              "    }\n",
              "\n",
              "    .colab-df-convert:hover {\n",
              "      background-color: #E2EBFA;\n",
              "      box-shadow: 0px 1px 2px rgba(60, 64, 67, 0.3), 0px 1px 3px 1px rgba(60, 64, 67, 0.15);\n",
              "      fill: #174EA6;\n",
              "    }\n",
              "\n",
              "    [theme=dark] .colab-df-convert {\n",
              "      background-color: #3B4455;\n",
              "      fill: #D2E3FC;\n",
              "    }\n",
              "\n",
              "    [theme=dark] .colab-df-convert:hover {\n",
              "      background-color: #434B5C;\n",
              "      box-shadow: 0px 1px 3px 1px rgba(0, 0, 0, 0.15);\n",
              "      filter: drop-shadow(0px 1px 2px rgba(0, 0, 0, 0.3));\n",
              "      fill: #FFFFFF;\n",
              "    }\n",
              "  </style>\n",
              "\n",
              "      <script>\n",
              "        const buttonEl =\n",
              "          document.querySelector('#df-a58c56c5-2cc8-4aa3-94b4-8ceec09095c0 button.colab-df-convert');\n",
              "        buttonEl.style.display =\n",
              "          google.colab.kernel.accessAllowed ? 'block' : 'none';\n",
              "\n",
              "        async function convertToInteractive(key) {\n",
              "          const element = document.querySelector('#df-a58c56c5-2cc8-4aa3-94b4-8ceec09095c0');\n",
              "          const dataTable =\n",
              "            await google.colab.kernel.invokeFunction('convertToInteractive',\n",
              "                                                     [key], {});\n",
              "          if (!dataTable) return;\n",
              "\n",
              "          const docLinkHtml = 'Like what you see? Visit the ' +\n",
              "            '<a target=\"_blank\" href=https://colab.research.google.com/notebooks/data_table.ipynb>data table notebook</a>'\n",
              "            + ' to learn more about interactive tables.';\n",
              "          element.innerHTML = '';\n",
              "          dataTable['output_type'] = 'display_data';\n",
              "          await google.colab.output.renderOutput(dataTable, element);\n",
              "          const docLink = document.createElement('div');\n",
              "          docLink.innerHTML = docLinkHtml;\n",
              "          element.appendChild(docLink);\n",
              "        }\n",
              "      </script>\n",
              "    </div>\n",
              "  </div>\n",
              "  "
            ]
          },
          "metadata": {},
          "execution_count": 30
        }
      ]
    },
    {
      "cell_type": "code",
      "source": [],
      "metadata": {
        "id": "dtPeD0Canqme"
      },
      "execution_count": null,
      "outputs": []
    }
  ]
}